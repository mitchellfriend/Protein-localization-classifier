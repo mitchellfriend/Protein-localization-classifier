{
 "cells": [
  {
   "cell_type": "markdown",
   "metadata": {},
   "source": [
    "<h1 align=\"center\"> Protein Subcellular Localization Prediction"
   ]
  },
  {
   "cell_type": "markdown",
   "metadata": {},
   "source": [
    "Protein subcellular localization prediction (or just protein localization prediction) involves the **prediction of where a protein resides in a cell, its subcellular localization.**\n",
    "\n",
    "In general, prediction tools take as input information about a protein, such as a protein sequence of amino acids, and produce a predicted location within the cell as output, such as the nucleus, Endoplasmic reticulum, Golgi apparatus, extracellular space, or other organelles. The aim is to build tools that can accurately predict the outcome of protein targeting in cells.\n",
    "\n",
    "**Prediction of protein subcellular localization is an important component of bioinformatics based prediction of protein function and genome annotation, and it can aid the identification of drug targets.**"
   ]
  },
  {
   "cell_type": "markdown",
   "metadata": {},
   "source": [
    "<h2 align=\"center\"> Data Explanation  <h2>"
   ]
  },
  {
   "cell_type": "markdown",
   "metadata": {},
   "source": [
    "<align=\"center\"> columns\n",
    "\n",
    "  1.  Sequence Name: Accession number for the SWISS-PROT database\n",
    "  2.  mcg: McGeoch's method for signal sequence recognition.\n",
    "  3.  gvh: von Heijne's method for signal sequence recognition.\n",
    "  4.  lip: von Heijne's Signal Peptidase II consensus sequence score.\n",
    "           Binary attribute.\n",
    "  5.  chg: Presence of charge on N-terminus of predicted lipoproteins.\n",
    "\t   Binary attribute.\n",
    "  6.  aac: score of discriminant analysis of the amino acid content of\n",
    "\t   outer membrane and periplasmic proteins.\n",
    "  7. alm1: score of the ALOM membrane spanning region prediction program.\n",
    "  8. alm2: score of ALOM program after excluding putative cleavable signal\n",
    "\t   regions from the sequence."
   ]
  },
  {
   "cell_type": "markdown",
   "metadata": {},
   "source": [
    " Class Distribution\n",
    " \n",
    "  cp  (cytoplasm) =                                      143\n",
    "  \n",
    "  im  (inner membrane without signal sequence) =        77         \n",
    "  \n",
    "  pp  (perisplasm)                             =       52\n",
    "  \n",
    "  imU (inner membrane, uncleavable signal sequence)  = 35\n",
    "  \n",
    "  om  (outer membrane)                            =    20\n",
    "  \n",
    "  omL (outer membrane lipoprotein)               =      5\n",
    "  \n",
    "  imL (inner membrane lipoprotein)              =       2\n",
    "\n",
    "imS (inner membrane, cleavable signal sequence) =     2\n"
   ]
  },
  {
   "cell_type": "markdown",
   "metadata": {},
   "source": [
    "<h1 align=\"center\"> Program Start"
   ]
  },
  {
   "cell_type": "code",
   "execution_count": 107,
   "metadata": {},
   "outputs": [],
   "source": [
    "#import modules\n",
    "import pandas as pd\n",
    "from sklearn.ensemble import RandomForestClassifier\n",
    "from sklearn.ensemble import VotingClassifier\n",
    "from sklearn.linear_model import LogisticRegression\n",
    "import numpy as np\n",
    "from sklearn.model_selection import train_test_split\n",
    "from sklearn.metrics import accuracy_score\n",
    "from sklearn.model_selection import cross_val_score\n",
    "from sklearn.model_selection import GridSearchCV\n",
    "from sklearn.metrics import confusion_matrix\n",
    "from sklearn.metrics import classification_report\n",
    "from sklearn.ensemble import  ExtraTreesClassifier\n",
    "\n",
    "#ignore Warnings\n",
    "import warnings\n",
    "warnings.filterwarnings(\"ignore\")\n",
    "\n",
    "#set show all columns\n",
    "pd.set_option(\"display.max_columns\",None)\n",
    "\n",
    "#plotting\n",
    "%matplotlib inline\n",
    "import matplotlib.pyplot as plt"
   ]
  },
  {
   "cell_type": "code",
   "execution_count": 2,
   "metadata": {},
   "outputs": [
    {
     "name": "stdout",
     "output_type": "stream",
     "text": [
      "Dimensions: (336, 9)\n"
     ]
    },
    {
     "data": {
      "text/html": [
       "<div>\n",
       "<style scoped>\n",
       "    .dataframe tbody tr th:only-of-type {\n",
       "        vertical-align: middle;\n",
       "    }\n",
       "\n",
       "    .dataframe tbody tr th {\n",
       "        vertical-align: top;\n",
       "    }\n",
       "\n",
       "    .dataframe thead th {\n",
       "        text-align: right;\n",
       "    }\n",
       "</style>\n",
       "<table border=\"1\" class=\"dataframe\">\n",
       "  <thead>\n",
       "    <tr style=\"text-align: right;\">\n",
       "      <th></th>\n",
       "      <th>Sequence_Name</th>\n",
       "      <th>mcg</th>\n",
       "      <th>gvh</th>\n",
       "      <th>lip</th>\n",
       "      <th>chg</th>\n",
       "      <th>aac</th>\n",
       "      <th>alm1</th>\n",
       "      <th>alm2</th>\n",
       "      <th>Class</th>\n",
       "    </tr>\n",
       "  </thead>\n",
       "  <tbody>\n",
       "    <tr>\n",
       "      <th>0</th>\n",
       "      <td>AAT_ECOLI</td>\n",
       "      <td>0.49</td>\n",
       "      <td>0.29</td>\n",
       "      <td>0.48</td>\n",
       "      <td>0.5</td>\n",
       "      <td>0.56</td>\n",
       "      <td>0.24</td>\n",
       "      <td>0.35</td>\n",
       "      <td>cp</td>\n",
       "    </tr>\n",
       "    <tr>\n",
       "      <th>1</th>\n",
       "      <td>ACEA_ECOLI</td>\n",
       "      <td>0.07</td>\n",
       "      <td>0.40</td>\n",
       "      <td>0.48</td>\n",
       "      <td>0.5</td>\n",
       "      <td>0.54</td>\n",
       "      <td>0.35</td>\n",
       "      <td>0.44</td>\n",
       "      <td>cp</td>\n",
       "    </tr>\n",
       "    <tr>\n",
       "      <th>2</th>\n",
       "      <td>ACEK_ECOLI</td>\n",
       "      <td>0.56</td>\n",
       "      <td>0.40</td>\n",
       "      <td>0.48</td>\n",
       "      <td>0.5</td>\n",
       "      <td>0.49</td>\n",
       "      <td>0.37</td>\n",
       "      <td>0.46</td>\n",
       "      <td>cp</td>\n",
       "    </tr>\n",
       "    <tr>\n",
       "      <th>3</th>\n",
       "      <td>ACKA_ECOLI</td>\n",
       "      <td>0.59</td>\n",
       "      <td>0.49</td>\n",
       "      <td>0.48</td>\n",
       "      <td>0.5</td>\n",
       "      <td>0.52</td>\n",
       "      <td>0.45</td>\n",
       "      <td>0.36</td>\n",
       "      <td>cp</td>\n",
       "    </tr>\n",
       "    <tr>\n",
       "      <th>4</th>\n",
       "      <td>ADI_ECOLI</td>\n",
       "      <td>0.23</td>\n",
       "      <td>0.32</td>\n",
       "      <td>0.48</td>\n",
       "      <td>0.5</td>\n",
       "      <td>0.55</td>\n",
       "      <td>0.25</td>\n",
       "      <td>0.35</td>\n",
       "      <td>cp</td>\n",
       "    </tr>\n",
       "  </tbody>\n",
       "</table>\n",
       "</div>"
      ],
      "text/plain": [
       "  Sequence_Name   mcg   gvh   lip  chg   aac  alm1  alm2 Class\n",
       "0     AAT_ECOLI  0.49  0.29  0.48  0.5  0.56  0.24  0.35    cp\n",
       "1    ACEA_ECOLI  0.07  0.40  0.48  0.5  0.54  0.35  0.44    cp\n",
       "2    ACEK_ECOLI  0.56  0.40  0.48  0.5  0.49  0.37  0.46    cp\n",
       "3    ACKA_ECOLI  0.59  0.49  0.48  0.5  0.52  0.45  0.36    cp\n",
       "4     ADI_ECOLI  0.23  0.32  0.48  0.5  0.55  0.25  0.35    cp"
      ]
     },
     "execution_count": 2,
     "metadata": {},
     "output_type": "execute_result"
    }
   ],
   "source": [
    "#reading in data\n",
    "#creating dataframe\n",
    "df = pd.read_csv('Bacteria_Data.txt', sep='\\s+') #read in space delimited data\n",
    "print('Dimensions: ' + str(df.shape))\n",
    "df.head()"
   ]
  },
  {
   "cell_type": "code",
   "execution_count": 3,
   "metadata": {},
   "outputs": [
    {
     "data": {
      "text/plain": [
       "cp     143\n",
       "im      77\n",
       "pp      52\n",
       "imU     35\n",
       "om      20\n",
       "omL      5\n",
       "imL      2\n",
       "imS      2\n",
       "Name: Class, dtype: int64"
      ]
     },
     "execution_count": 3,
     "metadata": {},
     "output_type": "execute_result"
    }
   ],
   "source": [
    "#check class values\n",
    "df.Class.value_counts()"
   ]
  },
  {
   "cell_type": "code",
   "execution_count": 4,
   "metadata": {},
   "outputs": [],
   "source": [
    "#separate data into X & y\n",
    "#Vectorize Values\n",
    "y = df['Class'].values\n",
    "X = df.drop(['Class', 'Sequence_Name'], axis=1).values"
   ]
  },
  {
   "cell_type": "code",
   "execution_count": 5,
   "metadata": {},
   "outputs": [],
   "source": [
    "#scale the data\n",
    "from sklearn.preprocessing import RobustScaler\n",
    "\n",
    "\n",
    "scaler = RobustScaler()\n",
    "X = scaler.fit_transform(X)"
   ]
  },
  {
   "cell_type": "markdown",
   "metadata": {},
   "source": [
    "<h1 align=\"center\"> 1. Binary Classification"
   ]
  },
  {
   "cell_type": "markdown",
   "metadata": {},
   "source": [
    "-  To start off simple, predict whether the protein will be found in the cytoplasm or not"
   ]
  },
  {
   "cell_type": "code",
   "execution_count": 122,
   "metadata": {},
   "outputs": [],
   "source": [
    "#generate new dataframe to be manipulated for Binary Classification\n",
    "df_1 = df"
   ]
  },
  {
   "cell_type": "code",
   "execution_count": 123,
   "metadata": {},
   "outputs": [
    {
     "data": {
      "text/plain": [
       "no     193\n",
       "yes    143\n",
       "Name: CP, dtype: int64"
      ]
     },
     "execution_count": 123,
     "metadata": {},
     "output_type": "execute_result"
    }
   ],
   "source": [
    "#Create binary column\n",
    "df_1['CP'] = np.where(df_1['Class']=='cp', 'yes','no')\n",
    "df_1['CP'].value_counts()"
   ]
  },
  {
   "cell_type": "code",
   "execution_count": 63,
   "metadata": {},
   "outputs": [],
   "source": [
    "#Set features and response as variables\n",
    "X_1 = X\n",
    "y_1 = df['CP'].values"
   ]
  },
  {
   "cell_type": "code",
   "execution_count": 11,
   "metadata": {},
   "outputs": [],
   "source": [
    "# Split into train/test set\n",
    "from sklearn.model_selection import train_test_split\n",
    "\n",
    "X_train_1, X_test_1, y_train_1, y_test_1 = train_test_split(X_1, y_1, test_size=0.2) #80/20 split"
   ]
  },
  {
   "cell_type": "code",
   "execution_count": 76,
   "metadata": {},
   "outputs": [],
   "source": [
    "#import Algorithms\n",
    "from sklearn.linear_model import LogisticRegression #logReg\n",
    "from sklearn.naive_bayes import GaussianNB #NaiveB\n",
    "from sklearn.ensemble import RandomForestClassifier #Random Forest\n",
    "from sklearn.svm import SVC #SVC\n",
    "from sklearn.ensemble import BaggingClassifier #Bagging\n",
    "from sklearn.neighbors import KNeighborsClassifier #Bagging\n",
    "from sklearn.ensemble import AdaBoostClassifier #ADA\n",
    "from sklearn.tree import DecisionTreeClassifier #ADA\n",
    "from sklearn.ensemble import GradientBoostingClassifier #GB\n",
    "from xgboost import XGBClassifier #XGBOOST\n",
    "\n",
    "from sklearn.ensemble import VotingClassifier#VotingClassifier "
   ]
  },
  {
   "cell_type": "code",
   "execution_count": 85,
   "metadata": {},
   "outputs": [],
   "source": [
    "#Define Algorithms\n",
    "log_clf = LogisticRegression(random_state=42, n_jobs=-1)\n",
    "nb_clf = GaussianNB()\n",
    "rnd_clf = RandomForestClassifier(random_state=42, n_jobs=-1)\n",
    "svm_clf = SVC(random_state=42)\n",
    "bagging_clf = BaggingClassifier(random_state=42, n_jobs=-1)\n",
    "ada_clf = AdaBoostClassifier(random_state=42)\n",
    "GB_clf = GradientBoostingClassifier(random_state=42)\n",
    "XGB_clf = XGBClassifier(random_state=42, n_jobs=-1)"
   ]
  },
  {
   "cell_type": "code",
   "execution_count": 90,
   "metadata": {},
   "outputs": [
    {
     "name": "stdout",
     "output_type": "stream",
     "text": [
      "\n"
     ]
    }
   ],
   "source": [
    "#voting calssifier\n",
    "voting_clf = VotingClassifier(\n",
    "    estimators =[('lr', log_clf),\n",
    "                 ('nb', nb_clf),\n",
    "                 ('rf', rnd_clf),\n",
    "                 ('svc', svm_clf),\n",
    "                ('bag', bagging_clf),\n",
    "                ('ada', ada_clf),\n",
    "                ('GB', GB_clf),\n",
    "                ('XGB', XGB_clf)],\n",
    "    voting='hard') \n",
    "voting_clf.fit(X_train_1, y_train_1)\n",
    "print()"
   ]
  },
  {
   "cell_type": "code",
   "execution_count": 91,
   "metadata": {},
   "outputs": [
    {
     "name": "stdout",
     "output_type": "stream",
     "text": [
      "LogisticRegression 1.0\n",
      "GaussianNB 0.6764705882352942\n",
      "RandomForestClassifier 0.9852941176470589\n",
      "SVC 0.9852941176470589\n",
      "BaggingClassifier 0.9558823529411765\n",
      "AdaBoostClassifier 0.9852941176470589\n",
      "GradientBoostingClassifier 1.0\n",
      "XGBClassifier 1.0\n",
      "VotingClassifier 1.0\n"
     ]
    }
   ],
   "source": [
    "#compare non-optimized Algorithms\n",
    "from sklearn.metrics import accuracy_score\n",
    "for clf in (log_clf,\n",
    "            nb_clf,\n",
    "            rnd_clf,\n",
    "            svm_clf,\n",
    "            bagging_clf,\n",
    "            ada_clf,\n",
    "            GB_clf,\n",
    "            XGB_clf,\n",
    "            voting_clf):\n",
    "    clf.fit(X_train_1, y_train_1)\n",
    "    y_pred_1 = clf.predict(X_test_1)\n",
    "    print(clf.__class__.__name__, accuracy_score(y_test_1, y_pred_1))"
   ]
  },
  {
   "cell_type": "markdown",
   "metadata": {},
   "source": [
    "-  **The only poor performer is Naive Bayes**"
   ]
  },
  {
   "cell_type": "markdown",
   "metadata": {},
   "source": [
    "**Summary:** Binary Classification proved to be fairly accurate among classification algorithms. Other than Naieve Bayes, all algorithms were in the high 90's to perfect. Next step is to do a similar process for each location of protein within the cell. Imblanced classes will be considered moving forward."
   ]
  },
  {
   "cell_type": "markdown",
   "metadata": {},
   "source": [
    "<h2 align=\"center\"> 2. Oversampling - Unbalanced Classes and Multiclass Classification"
   ]
  },
  {
   "cell_type": "code",
   "execution_count": 32,
   "metadata": {},
   "outputs": [],
   "source": [
    "from imblearn.over_sampling import RandomOverSampler\n",
    "ros = RandomOverSampler(ratio = 'auto',random_state=None)"
   ]
  },
  {
   "cell_type": "code",
   "execution_count": 6,
   "metadata": {},
   "outputs": [
    {
     "data": {
      "text/plain": [
       "cp     143\n",
       "im      77\n",
       "pp      52\n",
       "imU     35\n",
       "om      20\n",
       "omL      5\n",
       "imL      2\n",
       "imS      2\n",
       "Name: Class, dtype: int64"
      ]
     },
     "execution_count": 6,
     "metadata": {},
     "output_type": "execute_result"
    }
   ],
   "source": [
    "#create dataframe and look at value counts\n",
    "df_2 = df\n",
    "X_2 = X\n",
    "y_2 = df['Class'].values\n",
    "df_2['Class'].value_counts()"
   ]
  },
  {
   "cell_type": "code",
   "execution_count": 7,
   "metadata": {},
   "outputs": [],
   "source": [
    "#omL imS imL, these classes are most likely too small for the model to learn anything\n",
    "df_2 = df_2[df.Class != 'omL']\n",
    "df_2 = df_2[df.Class != 'imS']\n",
    "df_2 = df_2[df.Class != 'imL']"
   ]
  },
  {
   "cell_type": "code",
   "execution_count": 8,
   "metadata": {},
   "outputs": [
    {
     "data": {
      "text/plain": [
       "cp     143\n",
       "im      77\n",
       "pp      52\n",
       "imU     35\n",
       "om      20\n",
       "Name: Class, dtype: int64"
      ]
     },
     "execution_count": 8,
     "metadata": {},
     "output_type": "execute_result"
    }
   ],
   "source": [
    "df_2['Class'].value_counts()"
   ]
  },
  {
   "cell_type": "code",
   "execution_count": 19,
   "metadata": {},
   "outputs": [],
   "source": [
    "X_2 = df.drop(['Class', 'Sequence_Name'], axis=1).values\n",
    "scaler = RobustScaler()\n",
    "X_2 = scaler.fit_transform(X_2)\n",
    "\n",
    "\n",
    "Y_2 = df_2['Class'].values"
   ]
  },
  {
   "cell_type": "code",
   "execution_count": 96,
   "metadata": {},
   "outputs": [
    {
     "name": "stdout",
     "output_type": "stream",
     "text": [
      "Before:  [('cp', 143), ('im', 77), ('imU', 35), ('om', 20), ('pp', 52)]\n",
      "After:  [('cp', 143), ('im', 143), ('imU', 143), ('om', 143), ('pp', 143)]\n"
     ]
    },
    {
     "data": {
      "image/png": "[encoded data removed]",
      "text/plain": [
       "<matplotlib.figure.Figure at 0x2b525fc46a0>"
      ]
     },
     "metadata": {
      "needs_background": "light"
     },
     "output_type": "display_data"
    }
   ],
   "source": [
    "#Apply oversampling method & compare Before/After\n",
    "#Graph datapoints based 2 features\n",
    "\n",
    "print(\"Before: \",sorted(Counter(df_2['Class']).items()))\n",
    "\n",
    "ros = RandomOverSampler(ratio = 'auto',random_state=None)\n",
    "\n",
    "X_new, y_new = ros.fit_sample(df_2.iloc[:,1:8], df_2.iloc[:,8])\n",
    "print(\"After: \", sorted(Counter(y_new).items()))\n",
    "\n",
    "data2 = pd.concat([pd.DataFrame(X_new, columns = ['mcg', 'gvh', 'lip', 'chg', 'aac', 'alm1', 'alm2']), pd.DataFrame(y_new, columns = ['Class'])],axis = 1)\n",
    "sns.relplot(x=\"mcg\", y=\"alm1\", hue = \"Class\", data=data2, palette = \"plasma\");"
   ]
  },
  {
   "cell_type": "code",
   "execution_count": 100,
   "metadata": {},
   "outputs": [],
   "source": [
    "#separate data into X & y\n",
    "#Vectorize Values\n",
    "y_2 = data2['Class'].values\n",
    "X_2 = data2.drop(['Class'], axis=1).values\n",
    "\n",
    "#Scale features\n",
    "scaler = RobustScaler()\n",
    "X_2 = scaler.fit_transform(X_2)"
   ]
  },
  {
   "cell_type": "code",
   "execution_count": 103,
   "metadata": {},
   "outputs": [],
   "source": [
    "#train/test split\n",
    "X_train_2, X_test_2, y_train_2, y_test_2 = train_test_split(X_2, y_2, test_size=0.2) #80/20 split"
   ]
  },
  {
   "cell_type": "code",
   "execution_count": 117,
   "metadata": {},
   "outputs": [
    {
     "name": "stdout",
     "output_type": "stream",
     "text": [
      "0.972027972027972\n"
     ]
    }
   ],
   "source": [
    "rnd_clf = RandomForestClassifier(random_state=42, \n",
    "                                 n_jobs=-1,\n",
    "                                 max_depth=8,\n",
    "                                 n_estimators=1000,\n",
    "                                 max_features=3, \n",
    "                                 criterion='gini')\n",
    "\n",
    "rnd_clf.fit(X_train_2, y_train_2)\n",
    "y_pred_2 = rnd_clf.predict(X_test_2)\n",
    "print( accuracy_score(y_test_2, y_pred_2))"
   ]
  },
  {
   "cell_type": "code",
   "execution_count": 120,
   "metadata": {},
   "outputs": [
    {
     "name": "stdout",
     "output_type": "stream",
     "text": [
      "Predicted  cp  im  imU  om  pp\n",
      "Actual                        \n",
      "cp         29   0    0   0   3\n",
      "im          1  29    0   0   0\n",
      "imU         0   0   31   0   0\n",
      "om          0   0    0  23   0\n",
      "pp          0   0    0   0  27\n"
     ]
    }
   ],
   "source": [
    "# creating a confusion matrix \n",
    "print(pd.crosstab(y_test_2, y_pred_2, rownames=['Actual'], colnames=['Predicted']))"
   ]
  },
  {
   "cell_type": "markdown",
   "metadata": {},
   "source": [
    "<h3 align=\"center\"> Interpretation of Results <h3>"
   ]
  },
  {
   "cell_type": "markdown",
   "metadata": {},
   "source": [
    " For the most part, the Random Forest algorithm appears to be doing an excellent job at predicitng the location of a protein within a bacterium. **Most misclassifications occur is between cytoplasm(cp) and periplasma(pp).** This makes sense as both environments whithin a bacterium have similar properties. The cytoplasm is within the innermembrane of a bacterium while the periplasma is a smaller cytosol containg layer inbetween the innermembrane and outtermembrane. With the addition of more robust data, this has the potential to become a very useful algorithm."
   ]
  }
 ],
 "metadata": {
  "kernelspec": {
   "display_name": "Python 3",
   "language": "python",
   "name": "python3"
  },
  "language_info": {
   "codemirror_mode": {
    "name": "ipython",
    "version": 3
   },
   "file_extension": ".py",
   "mimetype": "text/x-python",
   "name": "python",
   "nbconvert_exporter": "python",
   "pygments_lexer": "ipython3",
   "version": "3.6.4"
  }
 },
 "nbformat": 4,
 "nbformat_minor": 2
}
